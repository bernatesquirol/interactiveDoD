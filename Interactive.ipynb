{
 "cells": [
  {
   "cell_type": "code",
   "execution_count": 10,
   "metadata": {},
   "outputs": [],
   "source": [
    "import pandas as pd\n",
    "import ipywidgets as widgets\n",
    "from ipywidgets import interactive\n"
   ]
  },
  {
   "cell_type": "code",
   "execution_count": 21,
   "metadata": {},
   "outputs": [],
   "source": [
    "POPINDEX_CURRENT = {\n",
    "    \"FRAGRANCE\": {\n",
    "      \"vAddedToProfile\": 0.2 ,\n",
    "      \"vLiked\": 0.2 ,\n",
    "           \"vBuy\": 0.2 ,\n",
    "              \"vTry\": 0.2 ,\n",
    "              \"vShared\": 0.2,\n",
    "     },\n",
    "    \"BRAND\": {\n",
    "            \"vAddedToProfile\": 0.4 ,\n",
    "            \"vLiked\": 0.3 ,\n",
    "            \"vShared\": 0.3 \n",
    "    },\n",
    "\n",
    "    \"FAMILY\": {\n",
    "        \"vAddedToProfile\": 0.2 ,\n",
    "      \"vLiked\": 0.2 ,\n",
    "           \"vBuy\": 0.2 ,\n",
    "              \"vTry\": 0.2 ,\n",
    "              \"vShared\": 0.2,\n",
    "    },\n",
    "    \"INGREDIENT\": {\n",
    "        \"vSearch\": 1.0\n",
    "    }\n",
    "}"
   ]
  },
  {
   "cell_type": "code",
   "execution_count": 11,
   "metadata": {},
   "outputs": [],
   "source": [
    "db = pd.read_excel('output-final-products.xlsx')"
   ]
  },
  {
   "cell_type": "code",
   "execution_count": 12,
   "metadata": {},
   "outputs": [],
   "source": [
    "db['sensor'] = pd.Series(db.sensor).fillna(method='ffill')\n",
    "db['entity'] = pd.Series(db.entity).fillna(method='ffill')\n",
    "db = db.set_index(['sensor', 'entity', 'kpi'])\n",
    "def evaluate(x):\n",
    "    if type(x)==str:\n",
    "        return pd.Series(eval(x))\n",
    "    return x\n",
    "db = db.applymap(evaluate)"
   ]
  },
  {
   "cell_type": "code",
   "execution_count": null,
   "metadata": {
    "scrolled": true
   },
   "outputs": [],
   "source": []
  },
  {
   "cell_type": "code",
   "execution_count": 13,
   "metadata": {},
   "outputs": [],
   "source": [
    "def createDictFromPandas(df):\n",
    "    if (df.index.nlevels==1):\n",
    "        return df\n",
    "    dict_f = {}\n",
    "    for level in df.index.levels[0]:\n",
    "        if (level in df.index):\n",
    "            dict_f[level] = createDictFromPandas(df.xs([level]))\n",
    "    return dict_f\n"
   ]
  },
  {
   "cell_type": "code",
   "execution_count": null,
   "metadata": {},
   "outputs": [],
   "source": []
  },
  {
   "cell_type": "code",
   "execution_count": 14,
   "metadata": {},
   "outputs": [],
   "source": [
    "def displayTop(series_g):\n",
    "    \n",
    "    return widgets.interactive(lambda : display(series_g.sort_values(ascending=False).head(10)))"
   ]
  },
  {
   "cell_type": "code",
   "execution_count": 23,
   "metadata": {},
   "outputs": [],
   "source": [
    "def displayCollectionKPIs(dict_kpis, entity):\n",
    "    list_kpis = []\n",
    "    dict_values = {}\n",
    "    kpis = []\n",
    "    currentPoP = None\n",
    "    for k,v in dict_kpis.items():\n",
    "        if ('total' in k.lower() or 'interaction' in k.lower()):\n",
    "            pass\n",
    "        elif (k[0]=='v'):\n",
    "            title = widgets.HTML(\n",
    "                value=\"<b>{} </b>({})\".format(k,dict_kpis[k+'Total']),\n",
    "            )\n",
    "#             print(k,v)\n",
    "            topKpi = displayTop(v)\n",
    "#             display(topKpi)\n",
    "            # get initial value based on entity\n",
    "#             slider = \n",
    "#             print(topKpi, slider)\n",
    "            vista = widgets.VBox([title, topKpi])\n",
    "            if ('popindex' in k.lower()):\n",
    "                currentPoP = vista\n",
    "            else:\n",
    "                list_kpis.append(vista)\n",
    "                kpis.append(k)\n",
    "            # create slider\n",
    "    kwargs = {k:widgets.FloatSlider(value=POPINDEX_CURRENT[entity][k] if k in POPINDEX_CURRENT[entity] else 0, min=0, max=1, step=0.01,readout=True) for k in kpis}\n",
    "    def getPoPIndex(weights):\n",
    "        try:\n",
    "            return pd.concat([dict_kpis[k]*w if not pd.isnull(w) and k in dict_kpis else pd.Series() for k,w in weights.items()]).groupby(level=0).sum().sort_values(ascending=False).head(10)\n",
    "        except:\n",
    "            return ''\n",
    "    def displayInteractive(**kwargs):\n",
    "        try:\n",
    "            display(getPoPIndex(kwargs))\n",
    "        except:\n",
    "            pass\n",
    "    interactiveStack = interactive(\n",
    "#             lambda **kwargs: display(widgets.HTML(value=\"<b>{}</b>\".format(str(kwargs)))), \n",
    "            displayInteractive, \n",
    "            *[],\n",
    "            **kwargs\n",
    "    )\n",
    "    panelTop = widgets.HBox(list_kpis)\n",
    "    # display currant popIndex\n",
    "    # & create fake popIndex\n",
    "    panelBottom = widgets.HBox([currentPoP, widgets.VBox([widgets.HTML(value=\"<b>Simulated PoP</b>\"),interactiveStack])])\n",
    "    return widgets.VBox([panelTop, panelBottom])"
   ]
  },
  {
   "cell_type": "code",
   "execution_count": 24,
   "metadata": {},
   "outputs": [],
   "source": [
    "# displayCollectionKPIs(db.loc['douglas_profiler','BRAND'][pd.Timestamp('2022-01-19')].to_dict(), \"BRAND\")"
   ]
  },
  {
   "cell_type": "code",
   "execution_count": 25,
   "metadata": {},
   "outputs": [],
   "source": [
    "def createAccordionFromPandas(df, key=None):\n",
    "    if (df.index.nlevels==1):\n",
    "        return displayCollectionKPIs(df.to_dict(), key)\n",
    "    children = []\n",
    "    titles = []\n",
    "    for level in df.index.levels[0]:\n",
    "        if (level in df.index):\n",
    "            child = createAccordionFromPandas(df.xs([level]), level)\n",
    "            children.append(child)\n",
    "            titles.append(level)\n",
    "    accordion = widgets.Accordion(children=children, titles=tuple(titles))\n",
    "    [accordion.set_title(i,t) for i,t in enumerate(titles)]\n",
    "    return accordion"
   ]
  },
  {
   "cell_type": "code",
   "execution_count": 26,
   "metadata": {},
   "outputs": [],
   "source": [
    "import datetime"
   ]
  },
  {
   "cell_type": "code",
   "execution_count": 28,
   "metadata": {
    "scrolled": false
   },
   "outputs": [
    {
     "ename": "SyntaxError",
     "evalue": "invalid syntax (<ipython-input-28-0a405d406a6b>, line 10)",
     "output_type": "error",
     "traceback": [
      "\u001b[1;36m  File \u001b[1;32m\"<ipython-input-28-0a405d406a6b>\"\u001b[1;36m, line \u001b[1;32m10\u001b[0m\n\u001b[1;33m    widgets.interactive(\u001b[0m\n\u001b[1;37m    ^\u001b[0m\n\u001b[1;31mSyntaxError\u001b[0m\u001b[1;31m:\u001b[0m invalid syntax\n"
     ]
    }
   ],
   "source": [
    "def displayAccordion(column_date):\n",
    "    try:\n",
    "        return display(createAccordionFromPandas(db[pd.Timestamp(column_date)]))\n",
    "    except Exception as ex:\n",
    "        print(ex)\n",
    "        pass\n",
    "\n",
    "widgets.VBox([\n",
    "widgets.HTML(value=\"<h1>PoP Lab</h1>\"\n",
    "widgets.interactive(\n",
    "    displayAccordion,\n",
    "    column_date=widgets.DatePicker(\n",
    "        description='Pick a Date',\n",
    "        disabled=False,\n",
    "        value = datetime.date(2022,1,23)\n",
    "    )\n",
    ")])"
   ]
  },
  {
   "cell_type": "code",
   "execution_count": null,
   "metadata": {},
   "outputs": [],
   "source": []
  }
 ],
 "metadata": {
  "kernelspec": {
   "display_name": "Python 3",
   "language": "python",
   "name": "python3"
  },
  "language_info": {
   "codemirror_mode": {
    "name": "ipython",
    "version": 3
   },
   "file_extension": ".py",
   "mimetype": "text/x-python",
   "name": "python",
   "nbconvert_exporter": "python",
   "pygments_lexer": "ipython3",
   "version": "3.8.5"
  }
 },
 "nbformat": 4,
 "nbformat_minor": 4
}
